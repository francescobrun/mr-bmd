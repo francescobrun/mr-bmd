{
 "cells": [
  {
   "cell_type": "code",
   "execution_count": 55,
   "id": "ff3a9192",
   "metadata": {},
   "outputs": [],
   "source": [
    "import time\n",
    "import numpy as np\n",
    "import scipy.optimize as opt\n",
    "import tifffile\n",
    "import multiprocessing\n",
    "import ctypes\n",
    "from matplotlib import pyplot as plt\n",
    "from mpl_toolkits.axes_grid1 import ImageGrid"
   ]
  },
  {
   "cell_type": "code",
   "execution_count": 56,
   "id": "e4625d75",
   "metadata": {},
   "outputs": [],
   "source": [
    "def block_bmd(start, end, dset, dset_shape, out, out_shape):\n",
    "    \n",
    "    # This part should be modified according to the setup and materials:\n",
    "    M_water = np.array([0.3222, 0.3220, 0.2911, 0.2635, 0.2442, 0.2304, 0.2186, 0.2049]).reshape(-1,1)\n",
    "    M_I = np.array([15.6188, 12.7954, 20.3665, 20.9604, 16.4106, 13.1529, 10.4335, 7.4192]).reshape(-1,1)\n",
    "    M_Ba = np.array([15.1741, 12.5767, 9.4394, 19.2138, 18.2928, 14.7074, 11.6919, 8.3326]).reshape(-1,1)\n",
    "    M_Gd = np.array([13.1257, 13.8609, 10.7791, 7.8003, 5.8833, 7.6278, 14.7015, 11.5078]).reshape(-1,1)\n",
    "\n",
    "    M = np.concatenate((M_water, M_Ba, M_I, M_Gd), axis=1)\n",
    "\n",
    "    # Get shared memory as numpy array:\n",
    "    dset_np = np.frombuffer(dset, dtype=np.float32).reshape(dset_shape)\n",
    "    out_np = np.frombuffer(out, dtype=np.float32).reshape(out_shape)\n",
    "\n",
    "    # For each image element (pixel or voxel):\n",
    "    for i in range(start, end + 1):  \n",
    "\n",
    "        # Decompose:\n",
    "        out_np[i,:] = opt.nnls(M, dset_np[i,:])[0]"
   ]
  },
  {
   "cell_type": "code",
   "execution_count": 57,
   "id": "6d952105",
   "metadata": {},
   "outputs": [],
   "source": [
    "def bmd(im, px_size, threads=16):\n",
    "\n",
    "    # Remember shape:\n",
    "    dims = im.shape    \n",
    "\n",
    "    # Get the dimensions \"flattened\" except the last one:\n",
    "    im = np.reshape(im, (np.prod(dims[0:-1]),dims[-1])) / px_size\n",
    "\n",
    "    # Prepare shared memory:\n",
    "    dset_shape = (im.shape[0],im.shape[1])\n",
    "    dset = multiprocessing.RawArray(ctypes.c_float, im.shape[0] * im.shape[1])\n",
    "\n",
    "    dset_np = np.frombuffer(dset, dtype=np.float32).reshape(dset_shape)\t\n",
    "    np.copyto(dset_np, im.astype(np.float32))\n",
    "\n",
    "    # Prepare output:\n",
    "    out_shape = (im.shape[0],4)\n",
    "    out = multiprocessing.RawArray(ctypes.c_float, im.shape[0] * 4)\n",
    "\n",
    "    # Array of jobs:\n",
    "    jobs = []\n",
    "\n",
    "    # Run several processes for independent computation on CPU:\n",
    "    for i in range(threads):\n",
    "\n",
    "        start = int((im.shape[0] / threads) * i)\n",
    "        if (i == threads - 1):\n",
    "            end = im.shape[0] - 1\n",
    "        else:\n",
    "            end = int((im.shape[0] / threads)) * (i + 1) - 1\n",
    "\n",
    "        p = multiprocessing.Process(target=block_bmd, args=(start, end, dset, dset_shape, out, out_shape))\n",
    "        jobs.append(p)\n",
    "        p.start()\n",
    "\n",
    "    # Wait for processes completion:\n",
    "    for job in jobs:\n",
    "        job.join()\n",
    "\n",
    "\n",
    "    # Wrap shared memory as an numpy array:\n",
    "    out_np = np.frombuffer(out, dtype=np.float32).reshape(out_shape)\n",
    "\n",
    "    # Reshape output:\n",
    "    water = np.reshape(out_np[:,0], dims[0:-1])    \n",
    "    Ba = np.reshape(out_np[:,1], dims[0:-1])\n",
    "    I = np.reshape(out_np[:,2], dims[0:-1])\n",
    "    Gd = np.reshape(out_np[:,3], dims[0:-1])\n",
    "\n",
    "\n",
    "    # Return\n",
    "    return water, Ba, I, Gd"
   ]
  },
  {
   "cell_type": "code",
   "execution_count": 58,
   "id": "c79d48e8",
   "metadata": {},
   "outputs": [
    {
     "name": "stdout",
     "output_type": "stream",
     "text": [
      "Elapsed time: 0.15904617309570312 s.\n"
     ]
    },
    {
     "data": {
      "image/png": "[encoded data removed]",
      "text/plain": [
       "<Figure size 1152x1152 with 8 Axes>"
      ]
     },
     "metadata": {
      "needs_background": "light"
     },
     "output_type": "display_data"
    }
   ],
   "source": [
    "if __name__ == \"__main__\":\n",
    "\n",
    "    IN_PATH = r\".\\data\"\n",
    "    OUT_PATH = r\".\\results\"\n",
    "    \n",
    "    n_bins  = 8\n",
    "    n_slice = 194 \n",
    "    px_size = 0.0453\n",
    "\n",
    "    # Read first image to get dims:\n",
    "    im = tifffile.imread(IN_PATH + r\"\\bin1_slice\" + str(n_slice).zfill(4) + \".tif\")\n",
    "    v = np.zeros((im.shape[0],im.shape[1],n_bins)).astype(np.float32)\n",
    "\n",
    "    # Load all the bins:\n",
    "    for i in range(n_bins):\n",
    "        v[:,:,i] = tifffile.imread(IN_PATH + r\"\\bin\" + str(i + 1) + \"_slice\" + str(n_slice).zfill(4) + \".tif\")\n",
    "\n",
    "    # Perform decomposition:\n",
    "    t1 = time.time()\n",
    "    water, Ba, I, Gd = bmd(v, px_size)\n",
    "    t2 = time.time()\n",
    "\n",
    "    # Display result and computational time:\n",
    "    print(\"Elapsed time: \" + str(t2-t1) + \" s.\")\n",
    "        \n",
    "    fig = plt.figure(figsize=(16., 16.))\n",
    "    grid = ImageGrid(fig, 111, nrows_ncols=(1, 4), axes_pad=0.1)\n",
    "    grid[0].imshow(water, cmap='gray', vmin=0, vmax=4.0)\n",
    "    grid[1].imshow(Ba, cmap='gray', vmin=0, vmax=0.05)\n",
    "    grid[2].imshow(I, cmap='gray', vmin=0, vmax=0.05)\n",
    "    grid[3].imshow(Gd, cmap='gray', vmin=0, vmax=0.05)\n",
    "    plt.show()\n",
    "    \n",
    "    # Write output:\n",
    "    tifffile.imwrite(OUT_PATH + r\"\\water_slice\" + str(n_slice).zfill(4) + \".tif\", water.astype(np.float32))\n",
    "    tifffile.imwrite(OUT_PATH + r\"\\Ba_slice\" + str(n_slice).zfill(4) + \".tif\", Ba.astype(np.float32))\n",
    "    tifffile.imwrite(OUT_PATH + r\"\\I_slice\" + str(n_slice).zfill(4) + \".tif\", I.astype(np.float32))\n",
    "    tifffile.imwrite(OUT_PATH + r\"\\Gd_slice\" + str(n_slice).zfill(4) + \".tif\", Gd.astype(np.float32))\n"
   ]
  },
  {
   "cell_type": "code",
   "execution_count": null,
   "id": "74097e9e",
   "metadata": {},
   "outputs": [],
   "source": []
  }
 ],
 "metadata": {
  "kernelspec": {
   "display_name": "Python 3 (ipykernel)",
   "language": "python",
   "name": "python3"
  },
  "language_info": {
   "codemirror_mode": {
    "name": "ipython",
    "version": 3
   },
   "file_extension": ".py",
   "mimetype": "text/x-python",
   "name": "python",
   "nbconvert_exporter": "python",
   "pygments_lexer": "ipython3",
   "version": "3.7.8"
  }
 },
 "nbformat": 4,
 "nbformat_minor": 5
}
